{
  "nbformat": 4,
  "nbformat_minor": 0,
  "metadata": {
    "colab": {
      "provenance": [],
      "mount_file_id": "18CiuSFh0qMYkz6PkQ8Y7fz0lAKHbhlwX",
      "authorship_tag": "ABX9TyPjebtBTbkHNOAVo5ko/NMv",
      "include_colab_link": true
    },
    "kernelspec": {
      "name": "python3",
      "display_name": "Python 3"
    },
    "language_info": {
      "name": "python"
    }
  },
  "cells": [
    {
      "cell_type": "markdown",
      "metadata": {
        "id": "view-in-github",
        "colab_type": "text"
      },
      "source": [
        "<a href=\"https://colab.research.google.com/github/mrbseba/dataVisualization/blob/master/cMinMaxNormalization.ipynb\" target=\"_parent\"><img src=\"https://colab.research.google.com/assets/colab-badge.svg\" alt=\"Open In Colab\"/></a>"
      ]
    },
    {
      "cell_type": "markdown",
      "source": [
        "**C Min Max Normalization**\n",
        "1. Create\tthe\tfollowing matrix\tX2:\n",
        "  \n",
        "  1, -1, 2,\n",
        "  \n",
        "  2, 0, 0,\n",
        "  \n",
        "  0, 1, -1\n",
        "2. Print\tthe\tmatrix\tand\tcompute\tthe\tmean\tof\tthe\tvariables.\n",
        "3. Normalize the\tdata\tusing\tMinMaxScaler.\tPrint\tthe\tscaled\tmatrix\tand\tcompute\tthe\tmean\tand\tthe\tvariance.\tWhat\tcan\tyou\tconclude?"
      ],
      "metadata": {
        "id": "1JdaGHuwlbnn"
      }
    },
    {
      "cell_type": "code",
      "execution_count": 4,
      "metadata": {
        "id": "A9wMIpOClSe6"
      },
      "outputs": [],
      "source": [
        "# import library numpyt - for matrix and advance mathematical opereation\n",
        "import numpy as np\n",
        "\n",
        "# import library for normalizing\n",
        "from sklearn.preprocessing import Normalizer\n",
        "\n",
        "# import the library for MinMaxScaler\n",
        "from sklearn.preprocessing import MinMaxScaler"
      ]
    },
    {
      "cell_type": "code",
      "source": [
        "# define the matrix\n",
        "matriX = np.matrix('1, -1, 2; 2, 0, 0; 0, 1, -1') # tuple \n",
        "print(\"matrix:\\n\", matriX)"
      ],
      "metadata": {
        "colab": {
          "base_uri": "https://localhost:8080/"
        },
        "id": "1rNKTwjhmOUH",
        "outputId": "79bccfa7-fc25-4334-889c-672d41bd2db8"
      },
      "execution_count": 2,
      "outputs": [
        {
          "output_type": "stream",
          "name": "stdout",
          "text": [
            "matrix:\n",
            " [[ 1 -1  2]\n",
            " [ 2  0  0]\n",
            " [ 0  1 -1]]\n"
          ]
        }
      ]
    },
    {
      "cell_type": "code",
      "source": [
        "# the mena of the variables\n",
        "media = matriX.mean()\n",
        "print(media)"
      ],
      "metadata": {
        "colab": {
          "base_uri": "https://localhost:8080/"
        },
        "id": "Q6LM-JdTmPF-",
        "outputId": "3fd6ffc9-e34a-4b90-a172-da5bc0131c20"
      },
      "execution_count": 3,
      "outputs": [
        {
          "output_type": "stream",
          "name": "stdout",
          "text": [
            "0.4444444444444444\n"
          ]
        }
      ]
    },
    {
      "cell_type": "code",
      "source": [
        "# normalize the data usign MinMaxScaler\n",
        "convertArraytMartix = np.asarray(matriX) # convert to numpay array\n",
        "print(\"- listMatrix:\\n\", convertArraytMartix)\n",
        "\n",
        "print(\"\\n\")\n",
        "scaler = MinMaxScaler()\n",
        "print(scaler.fit(convertArraytMartix))\n",
        "\n",
        "print(\"\\n\")\n",
        "\n",
        "print(\"dataMax\", scaler.data_max_)\n",
        "\n",
        "print(\"\\n\")\n",
        "\n",
        "scaledMatrix = scaler.transform(convertArraytMartix)\n",
        "print(\"Scaled Matrix\\n\", scaledMatrix)\n",
        "\n"
      ],
      "metadata": {
        "colab": {
          "base_uri": "https://localhost:8080/"
        },
        "id": "iMLrMHJJmPqG",
        "outputId": "73fabdad-2680-467a-dd6b-2227f9693c7c"
      },
      "execution_count": 29,
      "outputs": [
        {
          "output_type": "stream",
          "name": "stdout",
          "text": [
            "- listMatrix:\n",
            " [[ 1 -1  2]\n",
            " [ 2  0  0]\n",
            " [ 0  1 -1]]\n",
            "\n",
            "\n",
            "MinMaxScaler()\n",
            "\n",
            "\n",
            "dataMax [2. 1. 2.]\n",
            "\n",
            "\n",
            "Scaled Matrix\n",
            " [[0.5        0.         1.        ]\n",
            " [1.         0.5        0.33333333]\n",
            " [0.         1.         0.        ]]\n"
          ]
        }
      ]
    },
    {
      "cell_type": "code",
      "source": [
        "# the mean of the scaled matrix\n",
        "scaledMeanMatrix = scaledMatrix.mean()\n",
        "print(\"mean of the scaled matrix:\", scaledMeanMatrix)"
      ],
      "metadata": {
        "colab": {
          "base_uri": "https://localhost:8080/"
        },
        "id": "SYMvMd1kmN9P",
        "outputId": "aa15e79d-69ca-432a-a198-ca1ccdbc7717"
      },
      "execution_count": 33,
      "outputs": [
        {
          "output_type": "stream",
          "name": "stdout",
          "text": [
            "mean of the scaled matrix: 0.48148148148148145\n"
          ]
        }
      ]
    },
    {
      "cell_type": "markdown",
      "source": [
        "**Concluzi**\n",
        "\n",
        "Putem obeserva că media la scalarea matricei este mai mare ca media inițială\n"
      ],
      "metadata": {
        "id": "Czck3CCipquH"
      }
    },
    {
      "cell_type": "code",
      "source": [],
      "metadata": {
        "id": "tcjS-bvemQyv"
      },
      "execution_count": null,
      "outputs": []
    }
  ]
}