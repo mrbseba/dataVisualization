{
  "nbformat": 4,
  "nbformat_minor": 0,
  "metadata": {
    "colab": {
      "provenance": [],
      "collapsed_sections": [],
      "mount_file_id": "1VxzVELkW8Mu5Z3VaN6Z6VbdEqzg73GUC",
      "authorship_tag": "ABX9TyMFW/2ZsvNh8pts9IuTlP94",
      "include_colab_link": true
    },
    "kernelspec": {
      "name": "python3",
      "display_name": "Python 3"
    },
    "language_info": {
      "name": "python"
    }
  },
  "cells": [
    {
      "cell_type": "markdown",
      "metadata": {
        "id": "view-in-github",
        "colab_type": "text"
      },
      "source": [
        "<a href=\"https://colab.research.google.com/github/mrbseba/dataVisualization/blob/master/dataNormalization.ipynb\" target=\"_parent\"><img src=\"https://colab.research.google.com/assets/colab-badge.svg\" alt=\"Open In Colab\"/></a>"
      ]
    },
    {
      "cell_type": "markdown",
      "source": [
        "1. Crate\tthe\t\tfollowing\tmatrice X :\n",
        "\n",
        "  1, -1, 2,\n",
        "  \n",
        "  2, 0, 0,\n",
        "  \n",
        "  0, 1, -1\n",
        "\n",
        "2. Print\tX\tand\tcompute\tthe\tmean\tand\tthe\tvariance\tof\tX.\n",
        "3. Use\tthe\tscale function\tto\tnormalize\tX.\tAnalyze\tthe\tresult.\n",
        "4. Compute\tthe\tmean\tand\tthe\tvariance\tof\tthe\tscaled X.\tWhat\tcan\tyou\tconclude?"
      ],
      "metadata": {
        "id": "waMFTBn96GFl"
      }
    },
    {
      "cell_type": "code",
      "source": [
        "# import library numpyt - for matrix and advance mathematical opereation\n",
        "import numpy as np\n",
        "# import library for normalizing\n",
        "from sklearn.preprocessing import Normalizer"
      ],
      "metadata": {
        "id": "cjLV_-Qb5827"
      },
      "execution_count": 2,
      "outputs": []
    },
    {
      "cell_type": "code",
      "source": [
        "# define the matrix\n",
        "matriX = np.matrix('1, -1, 2; 2, 0, 0; 0, 1, -1') # tuple \n",
        "print(\"matrix:\\n\", matriX)"
      ],
      "metadata": {
        "colab": {
          "base_uri": "https://localhost:8080/"
        },
        "id": "PKutOXmJ5340",
        "outputId": "1eab08ef-1623-490d-d4ff-759aa4eb7e64"
      },
      "execution_count": 3,
      "outputs": [
        {
          "output_type": "stream",
          "name": "stdout",
          "text": [
            "matrix:\n",
            " [[ 1 -1  2]\n",
            " [ 2  0  0]\n",
            " [ 0  1 -1]]\n"
          ]
        }
      ]
    },
    {
      "cell_type": "code",
      "source": [
        "# media matricei\n",
        "media = matriX.mean()\n",
        "print(media)"
      ],
      "metadata": {
        "colab": {
          "base_uri": "https://localhost:8080/"
        },
        "id": "RWdO3s_w53gk",
        "outputId": "f6a82fd7-e9c3-4bf9-eb7b-7c685a7ca8e1"
      },
      "execution_count": 4,
      "outputs": [
        {
          "output_type": "stream",
          "name": "stdout",
          "text": [
            "0.4444444444444444\n"
          ]
        }
      ]
    },
    {
      "cell_type": "code",
      "source": [
        "# variance matricei\n",
        "variante = matriX.var()\n",
        "print(variante)"
      ],
      "metadata": {
        "colab": {
          "base_uri": "https://localhost:8080/"
        },
        "id": "N58M47E553Nk",
        "outputId": "d1bd8175-6be5-4def-cddd-f543ea6d28e1"
      },
      "execution_count": 5,
      "outputs": [
        {
          "output_type": "stream",
          "name": "stdout",
          "text": [
            "1.1358024691358024\n"
          ]
        }
      ]
    },
    {
      "cell_type": "code",
      "source": [
        "# normalize the matrix\n",
        "convertArraytMartix = np.asarray(matriX) # convert to numpay array\n",
        "print(\"- listMatrix:\\n\", convertArraytMartix)\n",
        "\n",
        "transformer = Normalizer().fit(convertArraytMartix)  # fit does nothing.\n",
        "newMatrix = transformer.transform(convertArraytMartix)\n",
        "\n",
        "print(\"\\n- normalizeMatrix:\")\n",
        "print(newMatrix)"
      ],
      "metadata": {
        "colab": {
          "base_uri": "https://localhost:8080/"
        },
        "id": "aY3GAhpdFLVy",
        "outputId": "ae954ccd-e9f9-4949-b6ad-7fc3ed136519"
      },
      "execution_count": 6,
      "outputs": [
        {
          "output_type": "stream",
          "name": "stdout",
          "text": [
            "- listMatrix:\n",
            " [[ 1 -1  2]\n",
            " [ 2  0  0]\n",
            " [ 0  1 -1]]\n",
            "\n",
            "- normalizeMatrix:\n",
            "[[ 0.40824829 -0.40824829  0.81649658]\n",
            " [ 1.          0.          0.        ]\n",
            " [ 0.          0.70710678 -0.70710678]]\n"
          ]
        }
      ]
    },
    {
      "cell_type": "code",
      "source": [
        "newMedia = newMatrix.mean()\n",
        "print(newMedia)"
      ],
      "metadata": {
        "colab": {
          "base_uri": "https://localhost:8080/"
        },
        "id": "QbYAGY1OEp6i",
        "outputId": "9b614336-6362-49ce-8479-61d85938b08a"
      },
      "execution_count": 7,
      "outputs": [
        {
          "output_type": "stream",
          "name": "stdout",
          "text": [
            "0.20183295343641403\n"
          ]
        }
      ]
    },
    {
      "cell_type": "code",
      "source": [
        "newVariante = newMedia.var()\n",
        "print(newVariante)"
      ],
      "metadata": {
        "colab": {
          "base_uri": "https://localhost:8080/"
        },
        "id": "eBQew7iCFYIy",
        "outputId": "d609313d-f1a8-4f5b-bf0c-98310dcabee7"
      },
      "execution_count": 8,
      "outputs": [
        {
          "output_type": "stream",
          "name": "stdout",
          "text": [
            "0.0\n"
          ]
        }
      ]
    },
    {
      "cell_type": "markdown",
      "source": [
        "**Cuncluzii**\n",
        "\n",
        "După ce am făcut normalizara putem observa faptul că media nouă est mai joasă decât prima medie iar noua variantie este egala cu *zero*"
      ],
      "metadata": {
        "id": "uqg5Lx97loLX"
      }
    },
    {
      "cell_type": "code",
      "source": [],
      "metadata": {
        "id": "WpC9kPUUFYm6"
      },
      "execution_count": 175,
      "outputs": []
    },
    {
      "cell_type": "code",
      "source": [],
      "metadata": {
        "id": "bT_-xW4YFZDI"
      },
      "execution_count": 181,
      "outputs": []
    }
  ]
}