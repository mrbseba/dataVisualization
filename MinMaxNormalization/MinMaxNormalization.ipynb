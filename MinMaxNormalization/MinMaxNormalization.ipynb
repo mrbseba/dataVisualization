{
 "cells": [
  {
   "cell_type": "markdown",
   "source": [
    "### MinMaxNormalization\n",
    "\n",
    "##### An  alternative  standardization  is  scaling  features  to  lie  between  a  given minimum and maximum value, often between zero and one. This can be achieved usingMinMaxScaler."
   ],
   "metadata": {
    "collapsed": false
   }
  },
  {
   "cell_type": "code",
   "execution_count": 20,
   "outputs": [
    {
     "name": "stdout",
     "output_type": "stream",
     "text": [
      "matrix:\n",
      " [[ 1 -1  2]\n",
      " [ 2  0  0]\n",
      " [ 0  1 -1]]\n",
      "Mean of matrix: 0.4444444444444444\n",
      "[[0.5        0.         1.        ]\n",
      " [1.         0.5        0.33333333]\n",
      " [0.         1.         0.        ]]\n",
      "newMatrix:\n",
      " [[0.5        0.         1.        ]\n",
      " [1.         0.5        0.33333333]\n",
      " [0.         1.         0.        ]]\n",
      "New mean: 0.48148148148148145\n",
      "Variante: 0.16941015089163236\n"
     ]
    }
   ],
   "source": [
    "# import the libary\n",
    "import numpy as np\n",
    "from sklearn import preprocessing as pr\n",
    "\n",
    "# define the matrix\n",
    "matriX = np.array([[1, -1, 2], [2, 0, 0], [0, 1, -1]], dtype = int)\n",
    "\n",
    "print(\"matrix:\\n\", matriX)\n",
    "\n",
    "# media matricei\n",
    "media = matriX.mean()\n",
    "print(\"Mean of matrix:\", media)\n",
    "\n",
    "\n",
    "newMatrix = pr.minmax_scale(matriX)\n",
    "print(newMatrix)\n",
    "print(\"newMatrix:\\n\", newMatrix )\n",
    "\n",
    "\n",
    "# media matricei\n",
    "newMedia = newMatrix.mean()\n",
    "print(\"New mean:\", newMedia)\n",
    "\n",
    "\n",
    "# variance matricei\n",
    "newVariante = newMatrix.var()\n",
    "print(\"Variante:\", newVariante)\n"
   ],
   "metadata": {
    "collapsed": false
   }
  },
  {
   "cell_type": "markdown",
   "source": [
    "Media și varianța au scăzut, ceea ce înseamnă că stabilitatea modelului a crescut.\n",
    "Varianța a scăzut mai mult decât în punct B."
   ],
   "metadata": {
    "collapsed": false
   }
  }
 ],
 "metadata": {
  "kernelspec": {
   "display_name": "Python 3",
   "language": "python",
   "name": "python3"
  },
  "language_info": {
   "codemirror_mode": {
    "name": "ipython",
    "version": 2
   },
   "file_extension": ".py",
   "mimetype": "text/x-python",
   "name": "python",
   "nbconvert_exporter": "python",
   "pygments_lexer": "ipython2",
   "version": "2.7.6"
  }
 },
 "nbformat": 4,
 "nbformat_minor": 0
}
