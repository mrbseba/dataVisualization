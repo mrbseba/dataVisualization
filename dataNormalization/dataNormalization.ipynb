{
 "cells": [
  {
   "cell_type": "markdown",
   "source": [
    "### Data Normalization\n",
    "#### sklearn.preprocesing package"
   ],
   "metadata": {
    "collapsed": false
   }
  },
  {
   "cell_type": "code",
   "execution_count": 29,
   "outputs": [],
   "source": [
    "# import the libary\n",
    "import numpy as np\n",
    "from sklearn import preprocessing as pr"
   ],
   "metadata": {
    "collapsed": false
   }
  },
  {
   "cell_type": "code",
   "execution_count": 30,
   "outputs": [
    {
     "name": "stdout",
     "output_type": "stream",
     "text": [
      "matrix:\n",
      " [[ 1 -1  2]\n",
      " [ 2  0  0]\n",
      " [ 0  1 -1]]\n"
     ]
    }
   ],
   "source": [
    "# define the matrix\n",
    "matriX = np.array([[1, -1, 2], [2, 0, 0], [0, 1, -1]], dtype = int)\n",
    "\n",
    "print(\"matrix:\\n\", matriX)"
   ],
   "metadata": {
    "collapsed": false
   }
  },
  {
   "cell_type": "code",
   "execution_count": 31,
   "outputs": [
    {
     "name": "stdout",
     "output_type": "stream",
     "text": [
      "Mean of matrix: 0.4444444444444444\n"
     ]
    }
   ],
   "source": [
    "# media matricei\n",
    "media = matriX.mean()\n",
    "\n",
    "print(\"Mean of matrix:\", media)"
   ],
   "metadata": {
    "collapsed": false
   }
  },
  {
   "cell_type": "code",
   "execution_count": 32,
   "outputs": [
    {
     "name": "stdout",
     "output_type": "stream",
     "text": [
      "Variante of matrix: 1.1358024691358024\n"
     ]
    }
   ],
   "source": [
    "# variance matricei\n",
    "variante = matriX.var()\n",
    "\n",
    "print(\"Variante of matrix:\", variante)"
   ],
   "metadata": {
    "collapsed": false
   }
  },
  {
   "cell_type": "code",
   "execution_count": 44,
   "outputs": [
    {
     "name": "stdout",
     "output_type": "stream",
     "text": [
      "newMatrix:\n",
      " [[ 0.         -1.22474487  1.33630621]\n",
      " [ 1.22474487  0.         -0.26726124]\n",
      " [-1.22474487  1.22474487 -1.06904497]]\n"
     ]
    }
   ],
   "source": [
    "newMatrix = pr.scale(matriX)\n",
    "\n",
    "print(\"newMatrix:\\n\", newMatrix)"
   ],
   "metadata": {
    "collapsed": false
   }
  },
  {
   "cell_type": "code",
   "execution_count": 43,
   "outputs": [
    {
     "name": "stdout",
     "output_type": "stream",
     "text": [
      "New mean: 4.9343245538895844e-17\n"
     ]
    }
   ],
   "source": [
    "# media matricei\n",
    "newMedia = newMatrix.mean()\n",
    "\n",
    "print(\"New mean:\", newMedia)"
   ],
   "metadata": {
    "collapsed": false
   }
  },
  {
   "cell_type": "code",
   "execution_count": 42,
   "outputs": [
    {
     "name": "stdout",
     "output_type": "stream",
     "text": [
      "New variante: 1.0\n"
     ]
    }
   ],
   "source": [
    "# variance matricei\n",
    "newVariante = newMatrix.var()\n",
    "\n",
    "print(\"New variante:\", newVariante)"
   ],
   "metadata": {
    "collapsed": false
   }
  },
  {
   "cell_type": "markdown",
   "source": [
    "## Exemplu Sergei"
   ],
   "metadata": {
    "collapsed": false
   }
  },
  {
   "cell_type": "code",
   "execution_count": 2,
   "outputs": [
    {
     "name": "stdout",
     "output_type": "stream",
     "text": [
      "[[ 1 -1  2]\n",
      " [ 2  0  0]\n",
      " [ 0  1 -1]]\n",
      "0.4444444444444444\n",
      "1.1358024691358024\n",
      "[[ 0.         -1.22474487  1.33630621]\n",
      " [ 1.22474487  0.         -0.26726124]\n",
      " [-1.22474487  1.22474487 -1.06904497]]\n",
      "4.9343245538895844e-17\n",
      "1.0\n"
     ]
    }
   ],
   "source": [
    "import numpy as np\n",
    "from sklearn import preprocessing as pr\n",
    "X = np.array([[1, -1, 2], [2, 0, 0], [0, 1, -1]], dtype=int)\n",
    "print(X)\n",
    "mn = X.mean()\n",
    "vr = X.var()\n",
    "print(mn)\n",
    "print(vr)\n",
    "X2 = pr.scale(X)\n",
    "print(X2)\n",
    "mn2 = X2.mean()\n",
    "vr2 = X2.var()\n",
    "print(mn2)\n",
    "print(vr2)\n"
   ],
   "metadata": {
    "collapsed": false
   }
  },
  {
   "cell_type": "code",
   "execution_count": 45,
   "outputs": [
    {
     "name": "stdout",
     "output_type": "stream",
     "text": [
      "matrix:\n",
      " [[ 1 -1  2]\n",
      " [ 2  0  0]\n",
      " [ 0  1 -1]]\n",
      "Mean of matrix: 0.4444444444444444\n",
      "Variante of matrix: 1.1358024691358024\n",
      "newMatrix:\n",
      " [[ 0.         -1.22474487  1.33630621]\n",
      " [ 1.22474487  0.         -0.26726124]\n",
      " [-1.22474487  1.22474487 -1.06904497]]\n",
      "New mean: 4.9343245538895844e-17\n",
      "New variante: 1.0\n"
     ]
    }
   ],
   "source": [
    "# import the libary\n",
    "import numpy as np\n",
    "from sklearn import preprocessing as pr\n",
    "\n",
    "# define the matrix\n",
    "matriX = np.array([[1, -1, 2], [2, 0, 0], [0, 1, -1]], dtype = int)\n",
    "\n",
    "print(\"matrix:\\n\", matriX)\n",
    "\n",
    "# media matricei\n",
    "media = matriX.mean()\n",
    "print(\"Mean of matrix:\", media)\n",
    "\n",
    "# variance matricei\n",
    "variante = matriX.var()\n",
    "print(\"Variante of matrix:\", variante)\n",
    "\n",
    "# scalarea matricei\n",
    "newMatrix = pr.scale(matriX)\n",
    "print(\"newMatrix:\\n\", newMatrix)\n",
    "\n",
    "# media matricei\n",
    "newMedia = newMatrix.mean()\n",
    "print(\"New mean:\", newMedia)\n",
    "\n",
    "\n",
    "# variance matricei\n",
    "newVariante = newMatrix.var()\n",
    "print(\"New variante:\", newVariante)\n"
   ],
   "metadata": {
    "collapsed": false
   }
  },
  {
   "cell_type": "markdown",
   "source": [
    "Dupa parerea mea după manipulările noastre, diferența dintre valorile minime și maxime\n",
    "scade și din această cauză, valoarea medie scade. Cu cât dispersia parametrilor modelului este\n",
    "mai mare, cu atât acesta va fi mai puțin stabil. Varianța a scăzut, ceea ce înseamnă că modelul a\n",
    "devenit mai stabil."
   ],
   "metadata": {
    "collapsed": false
   }
  }
 ],
 "metadata": {
  "kernelspec": {
   "display_name": "Python 3",
   "language": "python",
   "name": "python3"
  },
  "language_info": {
   "codemirror_mode": {
    "name": "ipython",
    "version": 2
   },
   "file_extension": ".py",
   "mimetype": "text/x-python",
   "name": "python",
   "nbconvert_exporter": "python",
   "pygments_lexer": "ipython2",
   "version": "2.7.6"
  }
 },
 "nbformat": 4,
 "nbformat_minor": 0
}
